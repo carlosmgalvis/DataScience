{
 "cells": [
  {
   "cell_type": "markdown",
   "id": "df63c7e7",
   "metadata": {},
   "source": [
    "# PUNTO 1"
   ]
  },
  {
   "cell_type": "code",
   "execution_count": 12,
   "id": "7c21d118",
   "metadata": {},
   "outputs": [],
   "source": [
    "#! mamba install pandas==1.3.3\n",
    "#! mamba install numpy=1.21.2\n",
    "#! mamba install matplotlib=3.4.3-y"
   ]
  },
  {
   "cell_type": "markdown",
   "id": "e5e86d2c",
   "metadata": {},
   "source": [
    "Importar las librerias requeridas"
   ]
  },
  {
   "cell_type": "code",
   "execution_count": 13,
   "id": "81503b7e",
   "metadata": {},
   "outputs": [],
   "source": [
    "import numpy as np\n",
    "import pandas as pd\n",
    "import matplotlib.pyplot as pyplot"
   ]
  },
  {
   "cell_type": "markdown",
   "id": "f8403a4c",
   "metadata": {},
   "source": [
    "Se lee el archvivo csv que esta en la carpeta del proyecto"
   ]
  },
  {
   "cell_type": "code",
   "execution_count": 14,
   "id": "bba796ed",
   "metadata": {},
   "outputs": [],
   "source": [
    "pesos_url = 'datos.csv'\n",
    "pesos_df = pd.read_csv(pesos_url)"
   ]
  },
  {
   "cell_type": "markdown",
   "id": "18045cca",
   "metadata": {},
   "source": [
    "obtener informacion del archivo"
   ]
  },
  {
   "cell_type": "code",
   "execution_count": 15,
   "id": "745ce2de",
   "metadata": {},
   "outputs": [
    {
     "name": "stdout",
     "output_type": "stream",
     "text": [
      "<class 'pandas.core.frame.DataFrame'>\n",
      "RangeIndex: 29 entries, 0 to 28\n",
      "Data columns (total 1 columns):\n",
      " #   Column  Non-Null Count  Dtype  \n",
      "---  ------  --------------  -----  \n",
      " 0   pesos   29 non-null     float64\n",
      "dtypes: float64(1)\n",
      "memory usage: 360.0 bytes\n"
     ]
    }
   ],
   "source": [
    "pesos_df.info()"
   ]
  },
  {
   "cell_type": "markdown",
   "id": "fc715c3c",
   "metadata": {},
   "source": [
    "Se obtiene la estadistica descriptiva"
   ]
  },
  {
   "cell_type": "code",
   "execution_count": 16,
   "id": "644a3376",
   "metadata": {},
   "outputs": [
    {
     "data": {
      "text/html": [
       "<div>\n",
       "<style scoped>\n",
       "    .dataframe tbody tr th:only-of-type {\n",
       "        vertical-align: middle;\n",
       "    }\n",
       "\n",
       "    .dataframe tbody tr th {\n",
       "        vertical-align: top;\n",
       "    }\n",
       "\n",
       "    .dataframe thead th {\n",
       "        text-align: right;\n",
       "    }\n",
       "</style>\n",
       "<table border=\"1\" class=\"dataframe\">\n",
       "  <thead>\n",
       "    <tr style=\"text-align: right;\">\n",
       "      <th></th>\n",
       "      <th>pesos</th>\n",
       "    </tr>\n",
       "  </thead>\n",
       "  <tbody>\n",
       "    <tr>\n",
       "      <th>count</th>\n",
       "      <td>29.000000</td>\n",
       "    </tr>\n",
       "    <tr>\n",
       "      <th>mean</th>\n",
       "      <td>5.296552</td>\n",
       "    </tr>\n",
       "    <tr>\n",
       "      <th>std</th>\n",
       "      <td>0.294573</td>\n",
       "    </tr>\n",
       "    <tr>\n",
       "      <th>min</th>\n",
       "      <td>4.700000</td>\n",
       "    </tr>\n",
       "    <tr>\n",
       "      <th>25%</th>\n",
       "      <td>5.100000</td>\n",
       "    </tr>\n",
       "    <tr>\n",
       "      <th>50%</th>\n",
       "      <td>5.300000</td>\n",
       "    </tr>\n",
       "    <tr>\n",
       "      <th>75%</th>\n",
       "      <td>5.500000</td>\n",
       "    </tr>\n",
       "    <tr>\n",
       "      <th>max</th>\n",
       "      <td>5.800000</td>\n",
       "    </tr>\n",
       "  </tbody>\n",
       "</table>\n",
       "</div>"
      ],
      "text/plain": [
       "           pesos\n",
       "count  29.000000\n",
       "mean    5.296552\n",
       "std     0.294573\n",
       "min     4.700000\n",
       "25%     5.100000\n",
       "50%     5.300000\n",
       "75%     5.500000\n",
       "max     5.800000"
      ]
     },
     "execution_count": 16,
     "metadata": {},
     "output_type": "execute_result"
    }
   ],
   "source": [
    "pesos_df.describe()"
   ]
  },
  {
   "cell_type": "markdown",
   "id": "54194e6f",
   "metadata": {},
   "source": [
    "Se obtiene el tamaño de la muestra"
   ]
  },
  {
   "cell_type": "code",
   "execution_count": 17,
   "id": "addbfc51",
   "metadata": {},
   "outputs": [
    {
     "data": {
      "text/plain": [
       "29"
      ]
     },
     "execution_count": 17,
     "metadata": {},
     "output_type": "execute_result"
    }
   ],
   "source": [
    "len(pesos_df)"
   ]
  },
  {
   "cell_type": "markdown",
   "id": "fca203ac",
   "metadata": {},
   "source": [
    "Se obtiene la media de la muestra"
   ]
  },
  {
   "cell_type": "code",
   "execution_count": 18,
   "id": "b943415e",
   "metadata": {},
   "outputs": [
    {
     "data": {
      "text/plain": [
       "pesos    5.296552\n",
       "dtype: float64"
      ]
     },
     "execution_count": 18,
     "metadata": {},
     "output_type": "execute_result"
    }
   ],
   "source": [
    "pesos_df.mean()"
   ]
  },
  {
   "cell_type": "markdown",
   "id": "65818ceb",
   "metadata": {},
   "source": [
    "Se obtiene la desviación estandar de la muestra"
   ]
  },
  {
   "cell_type": "code",
   "execution_count": 19,
   "id": "d044e345",
   "metadata": {},
   "outputs": [
    {
     "data": {
      "text/plain": [
       "pesos    0.294573\n",
       "dtype: float64"
      ]
     },
     "execution_count": 19,
     "metadata": {},
     "output_type": "execute_result"
    }
   ],
   "source": [
    "np.std(pesos_df, ddof=1)"
   ]
  },
  {
   "cell_type": "markdown",
   "id": "7ef6e09b",
   "metadata": {},
   "source": [
    "varianza"
   ]
  },
  {
   "cell_type": "code",
   "execution_count": 20,
   "id": "7cee6f85",
   "metadata": {},
   "outputs": [
    {
     "data": {
      "text/plain": [
       "pesos    0.086773\n",
       "dtype: float64"
      ]
     },
     "execution_count": 20,
     "metadata": {},
     "output_type": "execute_result"
    }
   ],
   "source": [
    "pesos_df.var()"
   ]
  }
 ],
 "metadata": {
  "kernelspec": {
   "display_name": "Python 3 (ipykernel)",
   "language": "python",
   "name": "python3"
  },
  "language_info": {
   "codemirror_mode": {
    "name": "ipython",
    "version": 3
   },
   "file_extension": ".py",
   "mimetype": "text/x-python",
   "name": "python",
   "nbconvert_exporter": "python",
   "pygments_lexer": "ipython3",
   "version": "3.9.13"
  }
 },
 "nbformat": 4,
 "nbformat_minor": 5
}

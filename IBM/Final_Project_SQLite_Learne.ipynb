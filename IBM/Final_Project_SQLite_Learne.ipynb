{
 "cells": [
  {
   "cell_type": "markdown",
   "metadata": {},
   "source": [
    "<center>\n",
    "    <img src=\"https://cf-courses-data.s3.us.cloud-object-storage.appdomain.cloud/assets/logos/SN_web_lightmode.png\" width=\"300\">\n",
    "</center>\n",
    "\n",
    "# Lab: Jupyter Notebook with Problems for Peer Reviewed Assignment\n",
    "\n",
    "Estimated time needed: 45 minutes\n"
   ]
  },
  {
   "cell_type": "markdown",
   "metadata": {},
   "source": [
    "# Assignment Scenario\n",
    "\n",
    "Congratulations! You have just been hired by a US Venture Capital firm as a data analyst.\n",
    "\n",
    "The company is considering foreign grain markets to help meet its supply chain requirements for its recent investments in the microbrewery and microdistillery industry, which is involved with the production and distribution of craft beers and spirits.\n",
    "\n",
    "Your first task is to provide a high level analysis of crop production in Canada. Your stakeholders want to understand the current and historical performance of certain crop types in terms of supply and price volatility. For now they are mainly interested in a macro-view of Canada's crop farming industry, and how it relates to the relative value of the Canadian and US dollars.\n"
   ]
  },
  {
   "cell_type": "markdown",
   "metadata": {},
   "source": [
    "# Introduction\n",
    "\n",
    "Using this R notebook you will:\n",
    "\n",
    "1.  Understand four datasets\n",
    "2.  Load the datasets into four separate tables in a database\n",
    "3.  Execute SQL queries to answer assignment questions\n",
    "\n",
    "You have already encountered two of these datasets in the previous practice lab. You will be able to reuse much of the work you did there to prepare your database tables for executing SQL queries.\n"
   ]
  },
  {
   "cell_type": "markdown",
   "metadata": {},
   "source": [
    "# Understand the datasets\n",
    "\n",
    "To complete the assignment problems in this notebook you will be using subsetted snapshots of two datasets from Statistics Canada, and one from the Bank of Canada. The links to the prepared datasets are provided in the next section; the interested student can explore the landing pages for the source datasets as follows:\n",
    "\n",
    "1.  <a href=\"https://www150.statcan.gc.ca/t1/tbl1/en/tv.action?utm_medium=Exinfluencer&utm_source=Exinfluencer&utm_content=000026UJ&utm_term=10006555&utm_id=NA-SkillsNetwork-Channel-SkillsNetworkCoursesIBMRP0203ENSkillsNetwork23863830-2021-01-01&pid=3210035901\">Canadian Principal Crops (Data & Metadata)</a>\n",
    "2.  <a href=\"https://www150.statcan.gc.ca/t1/tbl1/en/tv.action?utm_medium=Exinfluencer&utm_source=Exinfluencer&utm_content=000026UJ&utm_term=10006555&utm_id=NA-SkillsNetwork-Channel-SkillsNetworkCoursesIBMRP0203ENSkillsNetwork23863830-2021-01-01&pid=3210007701\">Farm product prices (Data & Metadata)</a>\n",
    "3.  <a href=\"https://www.bankofcanada.ca/rates/exchange/daily-exchange-rates?utm_medium=Exinfluencer&utm_source=Exinfluencer&utm_content=000026UJ&utm_term=10006555&utm_id=NA-SkillsNetwork-Channel-SkillsNetworkCoursesIBMRP0203ENSkillsNetwork23863830-2021-01-01\">Bank of Canada daily average exchange rates</a>\n",
    "\n",
    "### 1. Canadian Principal Crops Data \\*\n",
    "\n",
    "This dataset contains agricultural production measures for the principle crops grown in Canada, including a breakdown by province and teritory, for each year from 1908 to 2020.\n",
    "\n",
    "For this assignment you will use a preprocessed snapshot of this dataset (see below).\n",
    "\n",
    "A detailed description of this dataset can be obtained from the StatsCan Data Portal at:\n",
    "[https://www150.statcan.gc.ca/t1/tbl1/en/tv.action?pid=3210035901](https://www150.statcan.gc.ca/t1/tbl1/en/tv.action?utm_medium=Exinfluencer&utm_source=Exinfluencer&utm_content=000026UJ&utm_term=10006555&utm_id=NA-SkillsNetwork-Channel-SkillsNetworkCoursesIBMRP0203ENSkillsNetwork23863830-2021-01-01&pid=3210035901)\\\n",
    "Detailed information is included in the metadata file and as header text in the data file, which can be downloaded - look for the 'download options' link.\n",
    "\n",
    "### 2. Farm product prices\n",
    "\n",
    "This dataset contains monthly average farm product prices for Canadian crops and livestock by province and teritory, from 1980 to 2020 (or 'last year', whichever is greatest).\n",
    "\n",
    "For this assignment you will use a preprocessed snapshot of this dataset (see below).\n",
    "\n",
    "A description of this dataset can be obtained from the StatsCan Data Portal at:\n",
    "[https://www150.statcan.gc.ca/t1/tbl1/en/tv.action?pid=3210007701](https://www150.statcan.gc.ca/t1/tbl1/en/tv.action?utm_medium=Exinfluencer&utm_source=Exinfluencer&utm_content=000026UJ&utm_term=10006555&utm_id=NA-SkillsNetwork-Channel-SkillsNetworkCoursesIBMRP0203ENSkillsNetwork23863830-2021-01-01&pid=3210007701)\n",
    "The information is included in the metadata file, which can be downloaded - look for the 'download options' link.\n",
    "\n",
    "### 3. Bank of Canada daily average exchange rates \\*\n",
    "\n",
    "This dataset contains the daily average exchange rates for multiple foreign currencies. Exchange rates are expressed as 1 unit of the foreign currency converted into Canadian dollars. It includes only the latest four years of data, and the rates are published once each business day by 16:30 ET.\n",
    "\n",
    "For this assignment you will use a snapshot of this dataset with only the USD-CAD exchange rates included (see next section). We have also prepared a monthly averaged version which you will be using below.\n",
    "\n",
    "A brief description of this dataset and the original dataset can be obtained from the Bank of Canada Data Portal at:\n",
    "[https://www.bankofcanada.ca/rates/exchange/daily-exchange-rates/](https://www.bankofcanada.ca/rates/exchange/daily-exchange-rates/?utm_medium=Exinfluencer&utm_source=Exinfluencer&utm_content=000026UJ&utm_term=10006555&utm_id=NA-SkillsNetwork-Channel-SkillsNetworkCoursesIBMRP0203ENSkillsNetwork23863830-2021-01-01)\n",
    "\n",
    "( \\* these datasets are the same as the ones you used in the practice lab)\n"
   ]
  },
  {
   "cell_type": "markdown",
   "metadata": {},
   "source": [
    "### Dataset URLs\n",
    "\n",
    "1.  Annual Crop Data: <https://cf-courses-data.s3.us.cloud-object-storage.appdomain.cloud/IBM-RP0203EN-SkillsNetwork/labs/Final%20Project/Annual_Crop_Data.csv>\n",
    "\n",
    "2.  Farm product prices: <https://cf-courses-data.s3.us.cloud-object-storage.appdomain.cloud/IBM-RP0203EN-SkillsNetwork/labs/Final%20Project/Monthly_Farm_Prices.csv>\n",
    "\n",
    "3.  Daily FX Data: <https://cf-courses-data.s3.us.cloud-object-storage.appdomain.cloud/IBM-RP0203EN-SkillsNetwork/labs/Final%20Project/Daily_FX.csv>\n",
    "\n",
    "4.  Monthly FX Data: <https://cf-courses-data.s3.us.cloud-object-storage.appdomain.cloud/IBM-RP0203EN-SkillsNetwork/labs/Final%20Project/Monthly_FX.csv>\n",
    "\n",
    "<span style=\"color:red\">**IMPORTANT:**</span> You will be loading these datasets directly into R data frames from these URLs instead of from the StatsCan and Bank of Canada portals. The versions provided at these URLs are simplified and subsetted versions of the original datasets.\n"
   ]
  },
  {
   "cell_type": "markdown",
   "metadata": {},
   "source": [
    "#### Now let's load these datasets into four separate tables.\n",
    "\n",
    "Let's first load the RSQLite package:\n"
   ]
  },
  {
   "cell_type": "code",
   "execution_count": 19,
   "metadata": {
    "tags": []
   },
   "outputs": [],
   "source": [
    "install.packages(\"https://cran.r-project.org/src/contrib/Archive/RSQLite/RSQLite_0.10.0.tar.gz\", repos = NULL, type = \"source\", dependencies = TRUE) "
   ]
  },
  {
   "cell_type": "markdown",
   "metadata": {},
   "source": [
    "#### Restart Kernel\n",
    "\n",
    "After installing the RSQLite package, it is necessary to restart R Kernel. Click **Kernel** > **Restart Kernel** from the main menu. This will register the newly installed packages. Now proceed to load the RSQLite package. \n"
   ]
  },
  {
   "cell_type": "code",
   "execution_count": 20,
   "metadata": {
    "tags": []
   },
   "outputs": [],
   "source": [
    "library(\"RSQLite\")"
   ]
  },
  {
   "cell_type": "markdown",
   "metadata": {},
   "source": [
    "## Problem 1\n",
    "\n",
    "#### Create tables\n",
    "\n",
    "Establish a connection **conn** to the RSQLite database **FinalDB.sqlite**, and create the following four tables.\n",
    "\n",
    "1.  **CROP_DATA**\n",
    "2.  **FARM_PRICES**\n",
    "3.  **DAILY_FX**\n",
    "4.  **MONTHLY_FX**\n",
    "\n",
    "The previous practice lab will help you accomplish this.\n"
   ]
  },
  {
   "cell_type": "code",
   "execution_count": 21,
   "metadata": {
    "tags": []
   },
   "outputs": [
    {
     "data": {
      "text/html": [
       "0"
      ],
      "text/latex": [
       "0"
      ],
      "text/markdown": [
       "0"
      ],
      "text/plain": [
       "[1] 0"
      ]
     },
     "metadata": {},
     "output_type": "display_data"
    },
    {
     "data": {
      "text/html": [
       "0"
      ],
      "text/latex": [
       "0"
      ],
      "text/markdown": [
       "0"
      ],
      "text/plain": [
       "[1] 0"
      ]
     },
     "metadata": {},
     "output_type": "display_data"
    },
    {
     "data": {
      "text/html": [
       "0"
      ],
      "text/latex": [
       "0"
      ],
      "text/markdown": [
       "0"
      ],
      "text/plain": [
       "[1] 0"
      ]
     },
     "metadata": {},
     "output_type": "display_data"
    },
    {
     "data": {
      "text/html": [
       "0"
      ],
      "text/latex": [
       "0"
      ],
      "text/markdown": [
       "0"
      ],
      "text/plain": [
       "[1] 0"
      ]
     },
     "metadata": {},
     "output_type": "display_data"
    },
    {
     "data": {
      "text/html": [
       "0"
      ],
      "text/latex": [
       "0"
      ],
      "text/markdown": [
       "0"
      ],
      "text/plain": [
       "[1] 0"
      ]
     },
     "metadata": {},
     "output_type": "display_data"
    },
    {
     "data": {
      "text/html": [
       "0"
      ],
      "text/latex": [
       "0"
      ],
      "text/markdown": [
       "0"
      ],
      "text/plain": [
       "[1] 0"
      ]
     },
     "metadata": {},
     "output_type": "display_data"
    },
    {
     "data": {
      "text/html": [
       "0"
      ],
      "text/latex": [
       "0"
      ],
      "text/markdown": [
       "0"
      ],
      "text/plain": [
       "[1] 0"
      ]
     },
     "metadata": {},
     "output_type": "display_data"
    },
    {
     "data": {
      "text/html": [
       "0"
      ],
      "text/latex": [
       "0"
      ],
      "text/markdown": [
       "0"
      ],
      "text/plain": [
       "[1] 0"
      ]
     },
     "metadata": {},
     "output_type": "display_data"
    },
    {
     "name": "stdout",
     "output_type": "stream",
     "text": [
      "Tables created successfully in FinalDB.sqlite\n"
     ]
    }
   ],
   "source": [
    "# Load the RSQLite package\n",
    "library(RSQLite)\n",
    "\n",
    "# Establish a connection to the SQLite database\n",
    "conn <- dbConnect(SQLite(), dbname = \"FinalDB.sqlite\")\n",
    "\n",
    "# Drop tables from the database\n",
    "dbExecute(conn, \"DROP TABLE IF EXISTS CROP_DATA\")\n",
    "dbExecute(conn, \"DROP TABLE IF EXISTS FARM_PRICES\")\n",
    "dbExecute(conn, \"DROP TABLE IF EXISTS DAILY_FX\")\n",
    "dbExecute(conn, \"DROP TABLE IF EXISTS MONTHLY_FX\")\n",
    "\n",
    "\n",
    "# Create the CROP_DATA table\n",
    "dbExecute(conn, \"CREATE TABLE IF NOT EXISTS CROP_DATA (  CD_ID INTEGER PRIMARY KEY, CropYear DATE NOT NULL,  crop_type TEXT NOT NULL,  Geo TEXT NOT NULL,  seeded_area NUMERIC , harvested_area NUMERIC, production NUMERIC, avg_yield NUMERIC );\")\n",
    "\n",
    "# Create the FARM_PRICES table\n",
    "dbExecute(conn, 'CREATE TABLE IF NOT EXISTS FARM_PRICES (   CD_ID INTEGER PRIMARY KEY, FarmDate DATE NOT NULL,  crop_type TEXT NOT NULL,  Geo TEXT NOT NULL,  price_prermt NUMERIC ,  FOREIGN KEY(CD_ID) REFERENCES CROP_DATA(CD_ID));')\n",
    "\n",
    "# Create the DAILY_FX table\n",
    "dbExecute(conn, 'CREATE TABLE IF NOT EXISTS DAILY_FX (  DFX_ID INTEGER PRIMARY KEY,  FXDate DATE NOT NULL, FXUSDCAD NUMERIC  );')\n",
    "\n",
    "# Create the MONTHLY_FX table\n",
    "dbExecute(conn, 'CREATE TABLE IF NOT EXISTS MONTHLY_FX (  DFX_ID INTEGER PRIMARY KEY,  MonthlyDate DATE NOT NULL, FXUSDCAD NUMERIC);')\n",
    "\n",
    "# Print a confirmation message\n",
    "cat(\"Tables created successfully in FinalDB.sqlite\\n\")"
   ]
  },
  {
   "cell_type": "code",
   "execution_count": 22,
   "metadata": {
    "tags": []
   },
   "outputs": [
    {
     "data": {
      "text/html": [
       "<style>\n",
       ".list-inline {list-style: none; margin:0; padding: 0}\n",
       ".list-inline>li {display: inline-block}\n",
       ".list-inline>li:not(:last-child)::after {content: \"\\00b7\"; padding: 0 .5ex}\n",
       "</style>\n",
       "<ol class=list-inline><li>'CROP_DATA'</li><li>'DAILY_FX'</li><li>'FARM_PRICES'</li><li>'MONTHLY_FX'</li></ol>\n"
      ],
      "text/latex": [
       "\\begin{enumerate*}\n",
       "\\item 'CROP\\_DATA'\n",
       "\\item 'DAILY\\_FX'\n",
       "\\item 'FARM\\_PRICES'\n",
       "\\item 'MONTHLY\\_FX'\n",
       "\\end{enumerate*}\n"
      ],
      "text/markdown": [
       "1. 'CROP_DATA'\n",
       "2. 'DAILY_FX'\n",
       "3. 'FARM_PRICES'\n",
       "4. 'MONTHLY_FX'\n",
       "\n",
       "\n"
      ],
      "text/plain": [
       "[1] \"CROP_DATA\"   \"DAILY_FX\"    \"FARM_PRICES\" \"MONTHLY_FX\" "
      ]
     },
     "metadata": {},
     "output_type": "display_data"
    }
   ],
   "source": [
    "#check list of tables in the present db.\n",
    "dbListTables(conn)"
   ]
  },
  {
   "cell_type": "markdown",
   "metadata": {},
   "source": [
    "## Problem 2\n",
    "\n",
    "#### Read Datasets and load your tables in database\n",
    "\n",
    "Read the datasets into R dataframes using the urls provided above. Then load your tables in database.\n"
   ]
  },
  {
   "cell_type": "code",
   "execution_count": 23,
   "metadata": {
    "tags": []
   },
   "outputs": [
    {
     "data": {
      "text/html": [
       "TRUE"
      ],
      "text/latex": [
       "TRUE"
      ],
      "text/markdown": [
       "TRUE"
      ],
      "text/plain": [
       "[1] TRUE"
      ]
     },
     "metadata": {},
     "output_type": "display_data"
    },
    {
     "data": {
      "text/html": [
       "TRUE"
      ],
      "text/latex": [
       "TRUE"
      ],
      "text/markdown": [
       "TRUE"
      ],
      "text/plain": [
       "[1] TRUE"
      ]
     },
     "metadata": {},
     "output_type": "display_data"
    },
    {
     "data": {
      "text/html": [
       "TRUE"
      ],
      "text/latex": [
       "TRUE"
      ],
      "text/markdown": [
       "TRUE"
      ],
      "text/plain": [
       "[1] TRUE"
      ]
     },
     "metadata": {},
     "output_type": "display_data"
    },
    {
     "data": {
      "text/html": [
       "TRUE"
      ],
      "text/latex": [
       "TRUE"
      ],
      "text/markdown": [
       "TRUE"
      ],
      "text/plain": [
       "[1] TRUE"
      ]
     },
     "metadata": {},
     "output_type": "display_data"
    },
    {
     "name": "stdout",
     "output_type": "stream",
     "text": [
      "Data successfully loaded into the database tables.\n"
     ]
    },
    {
     "data": {
      "text/html": [
       "<style>\n",
       ".list-inline {list-style: none; margin:0; padding: 0}\n",
       ".list-inline>li {display: inline-block}\n",
       ".list-inline>li:not(:last-child)::after {content: \"\\00b7\"; padding: 0 .5ex}\n",
       "</style>\n",
       "<ol class=list-inline><li>'CROP_DATA'</li><li>'DAILY_FX'</li><li>'FARM_PRICES'</li><li>'MONTHLY_FX'</li></ol>\n"
      ],
      "text/latex": [
       "\\begin{enumerate*}\n",
       "\\item 'CROP\\_DATA'\n",
       "\\item 'DAILY\\_FX'\n",
       "\\item 'FARM\\_PRICES'\n",
       "\\item 'MONTHLY\\_FX'\n",
       "\\end{enumerate*}\n"
      ],
      "text/markdown": [
       "1. 'CROP_DATA'\n",
       "2. 'DAILY_FX'\n",
       "3. 'FARM_PRICES'\n",
       "4. 'MONTHLY_FX'\n",
       "\n",
       "\n"
      ],
      "text/plain": [
       "[1] \"CROP_DATA\"   \"DAILY_FX\"    \"FARM_PRICES\" \"MONTHLY_FX\" "
      ]
     },
     "metadata": {},
     "output_type": "display_data"
    }
   ],
   "source": [
    "# Write your query here\n",
    "# Load necessary packages\n",
    "library(RSQLite)\n",
    "\n",
    "# Establish a connection to the SQLite database\n",
    "conn <- dbConnect(SQLite(), dbname = \"FinalDB.sqlite\")\n",
    "\n",
    "# URLs for the datasets (replace with actual URLs if provided)\n",
    "crop_data_url <- \"https://cf-courses-data.s3.us.cloud-object-storage.appdomain.cloud/IBM-RP0203EN-SkillsNetwork/labs/Final%20Project/Annual_Crop_Data.csv\"\n",
    "farm_prices_url <- \"https://cf-courses-data.s3.us.cloud-object-storage.appdomain.cloud/IBM-RP0203EN-SkillsNetwork/labs/Final%20Project/Monthly_Farm_Prices.csv\"\n",
    "daily_fx_url <- \"https://cf-courses-data.s3.us.cloud-object-storage.appdomain.cloud/IBM-RP0203EN-SkillsNetwork/labs/Final%20Project/Daily_FX.csv\"\n",
    "monthly_fx_url <- \"https://cf-courses-data.s3.us.cloud-object-storage.appdomain.cloud/IBM-RP0203EN-SkillsNetwork/labs/Final%20Project/Monthly_FX.csv\"\n",
    "\n",
    "# Step 1: Read datasets into data frames\n",
    "crop_data <- read.csv(crop_data_url)\n",
    "farm_prices <- read.csv(farm_prices_url)\n",
    "daily_fx <- read.csv(daily_fx_url)\n",
    "monthly_fx <- read.csv(monthly_fx_url)\n",
    "\n",
    "# Step 2: Load data frames into database tables\n",
    "# Load CROP_DATA table\n",
    "dbWriteTable(conn, \"CROP_DATA\", crop_data, append = TRUE, row.names = FALSE)\n",
    "\n",
    "# Load FARM_PRICES table\n",
    "dbWriteTable(conn, \"FARM_PRICES\", farm_prices, append = TRUE, row.names = FALSE)\n",
    "\n",
    "# Load DAILY_FX table\n",
    "dbWriteTable(conn, \"DAILY_FX\", daily_fx, append = TRUE, row.names = FALSE)\n",
    "\n",
    "# Load MONTHLY_FX table\n",
    "dbWriteTable(conn, \"MONTHLY_FX\", monthly_fx, append = TRUE, row.names = FALSE)\n",
    "\n",
    "# Print confirmation message\n",
    "cat(\"Data successfully loaded into the database tables.\\n\")\n",
    "\n",
    "# Check the tables\n",
    "dbListTables(conn)"
   ]
  },
  {
   "cell_type": "markdown",
   "metadata": {},
   "source": [
    "## Now execute SQL queries using the RSQLite R package to solve the assignment problems.\n",
    "\n",
    "## Problem 3\n",
    "\n",
    "#### How many records are in the farm prices dataset?\n"
   ]
  },
  {
   "cell_type": "code",
   "execution_count": 24,
   "metadata": {
    "tags": []
   },
   "outputs": [
    {
     "name": "stdout",
     "output_type": "stream",
     "text": [
      "Number of records in the FARM_PRICES dataset: 2678 \n"
     ]
    }
   ],
   "source": [
    "# Write your query here\n",
    "# Count the number of records in the FARM_PRICES table\n",
    "query <- \"SELECT COUNT(*) AS record_count FROM FARM_PRICES\"\n",
    "result <- dbGetQuery(conn, query)\n",
    "\n",
    "# Display the result\n",
    "cat(\"Number of records in the FARM_PRICES dataset:\", result$record_count, \"\\n\")"
   ]
  },
  {
   "cell_type": "markdown",
   "metadata": {},
   "source": [
    "## Problem 4\n",
    "\n",
    "#### Which geographies are included in the farm prices dataset?\n"
   ]
  },
  {
   "cell_type": "code",
   "execution_count": 25,
   "metadata": {
    "tags": []
   },
   "outputs": [
    {
     "name": "stdout",
     "output_type": "stream",
     "text": [
      "Geographies in the FARM_PRICES dataset:\n",
      "           Geo\n",
      "1      Alberta\n",
      "2 Saskatchewan\n"
     ]
    }
   ],
   "source": [
    "# Write your query here\n",
    "# Retrieve distinct geographies from the FARM_PRICES table\n",
    "query <- \"SELECT DISTINCT geo FROM FARM_PRICES\"\n",
    "result <- dbGetQuery(conn, query)\n",
    "\n",
    "# Display the result\n",
    "cat(\"Geographies in the FARM_PRICES dataset:\\n\")\n",
    "print(result)"
   ]
  },
  {
   "cell_type": "markdown",
   "metadata": {},
   "source": [
    "## Problem 5\n",
    "\n",
    "#### How many hectares of Rye were harvested in Canada in 1968?\n"
   ]
  },
  {
   "cell_type": "code",
   "execution_count": 31,
   "metadata": {},
   "outputs": [
    {
     "name": "stdout",
     "output_type": "stream",
     "text": [
      "  SUM(harvested_area)\n",
      "1              274100\n"
     ]
    }
   ],
   "source": [
    "# Write your query here\n",
    "# Query the number of hectares harvested for Rye in Canada in 1968\n",
    "query <- \"\n",
    "  SELECT SUM(harvested_area) \n",
    "  FROM CROP_DATA \n",
    "  WHERE crop_type = 'Rye' AND geo = 'Canada' AND strftime('%Y', CROPYEAR) = '1968';\n",
    "\"\n",
    "result <- dbGetQuery(conn, query)\n",
    "print(result)"
   ]
  },
  {
   "cell_type": "markdown",
   "metadata": {},
   "source": [
    "## Problem 6\n",
    "\n",
    "#### Query and display the first 6 rows of the farm prices table for Rye.\n"
   ]
  },
  {
   "cell_type": "code",
   "execution_count": 32,
   "metadata": {},
   "outputs": [
    {
     "name": "stdout",
     "output_type": "stream",
     "text": [
      "First 6 rows of the farm prices table for Rye:\n",
      "  CD_ID   FarmDate crop_type          Geo price_prermt\n",
      "1     4 1985-01-01       Rye      Alberta       100.77\n",
      "2     5 1985-01-01       Rye Saskatchewan       109.75\n",
      "3    10 1985-02-01       Rye      Alberta        95.05\n",
      "4    11 1985-02-01       Rye Saskatchewan       103.46\n",
      "5    16 1985-03-01       Rye      Alberta        96.77\n",
      "6    17 1985-03-01       Rye Saskatchewan       106.38\n"
     ]
    }
   ],
   "source": [
    "# Wriet your query here\n",
    "query_6 <- \"\n",
    "SELECT * FROM FARM_PRICES\n",
    "WHERE crop_type = 'Rye'\n",
    "LIMIT 6;\n",
    "\"\n",
    "\n",
    "# Execute the query\n",
    "result_6 <- dbGetQuery(conn, query_6)\n",
    "cat(\"First 6 rows of the farm prices table for Rye:\\n\")\n",
    "print(result_6)"
   ]
  },
  {
   "cell_type": "markdown",
   "metadata": {},
   "source": [
    "## Problem 7\n",
    "\n",
    "#### Which provinces grew Barley?\n"
   ]
  },
  {
   "cell_type": "code",
   "execution_count": 33,
   "metadata": {},
   "outputs": [
    {
     "name": "stdout",
     "output_type": "stream",
     "text": [
      "Provinces that grew Barley:\n",
      "           Geo\n",
      "1      Alberta\n",
      "2       Canada\n",
      "3 Saskatchewan\n"
     ]
    }
   ],
   "source": [
    "# Write your query here\n",
    "# SQL query to find which provinces grew Barley\n",
    "query_7 <- \"\n",
    "SELECT DISTINCT Geo\n",
    "FROM CROP_DATA\n",
    "WHERE crop_type = 'Barley';\n",
    "\"\n",
    "\n",
    "# Execute the query\n",
    "result_7 <- dbGetQuery(conn, query_7)\n",
    "cat(\"Provinces that grew Barley:\\n\")\n",
    "print(result_7)"
   ]
  },
  {
   "cell_type": "markdown",
   "metadata": {},
   "source": [
    "## Problem 8\n",
    "\n",
    "#### Find the first and last dates for the farm prices data.\n"
   ]
  },
  {
   "cell_type": "code",
   "execution_count": 34,
   "metadata": {},
   "outputs": [
    {
     "name": "stdout",
     "output_type": "stream",
     "text": [
      "First and last dates for the farm prices data:\n",
      "  first_date  last_date\n",
      "1 1985-01-01 2020-12-01\n"
     ]
    }
   ],
   "source": [
    "# Write your query here\n",
    "# SQL query to find the first and last dates for the farm prices data\n",
    "query_8 <- \"\n",
    "SELECT MIN(FarmDate) AS first_date, MAX(FarmDate) AS last_date\n",
    "FROM FARM_PRICES;\n",
    "\"\n",
    "\n",
    "# Execute the query\n",
    "result_8 <- dbGetQuery(conn, query_8)\n",
    "cat(\"First and last dates for the farm prices data:\\n\")\n",
    "print(result_8)"
   ]
  },
  {
   "cell_type": "markdown",
   "metadata": {},
   "source": [
    "## Problem 9\n",
    "\n",
    "#### Which crops have ever reached a farm price greater than or equal to $350 per metric tonne?\n"
   ]
  },
  {
   "cell_type": "code",
   "execution_count": 35,
   "metadata": {},
   "outputs": [
    {
     "name": "stdout",
     "output_type": "stream",
     "text": [
      "Crops that reached a farm price >= $350 per metric tonne:\n",
      "  crop_type\n",
      "1    Canola\n"
     ]
    }
   ],
   "source": [
    "# Write your query here\n",
    "# SQL query to find crops with a price >= $350 per metric tonne\n",
    "query_9 <- \"\n",
    "SELECT DISTINCT crop_type\n",
    "FROM FARM_PRICES\n",
    "WHERE price_prermt >= 350;\n",
    "\"\n",
    "\n",
    "# Execute the query\n",
    "result_9 <- dbGetQuery(conn, query_9)\n",
    "cat(\"Crops that reached a farm price >= $350 per metric tonne:\\n\")\n",
    "print(result_9)"
   ]
  },
  {
   "cell_type": "markdown",
   "metadata": {},
   "source": [
    "## Problem 10\n",
    "\n",
    "#### Rank the crop types harvested in Saskatchewan in the year 2000 by their average yield. Which crop performed best?\n"
   ]
  },
  {
   "cell_type": "code",
   "execution_count": 36,
   "metadata": {},
   "outputs": [
    {
     "name": "stdout",
     "output_type": "stream",
     "text": [
      "Ranked crops in Saskatchewan by average yield in 2000:\n",
      "[1] crop_type avg_yield\n",
      "<0 rows> (or 0-length row.names)\n",
      "Best-performing crop in Saskatchewan in 2000: NA \n"
     ]
    }
   ],
   "source": [
    "# SQL query to rank crop types in Saskatchewan in 2000 by average yield\n",
    "query_10 <- \"\n",
    "SELECT crop_type, AVG(avg_yield) AS avg_yield\n",
    "FROM CROP_DATA\n",
    "WHERE Geo = 'Saskatchewan' AND CropYear = 2000\n",
    "GROUP BY crop_type\n",
    "ORDER BY avg_yield DESC;\n",
    "\"\n",
    "\n",
    "# Execute the query\n",
    "result_10 <- dbGetQuery(conn, query_10)\n",
    "cat(\"Ranked crops in Saskatchewan by average yield in 2000:\\n\")\n",
    "print(result_10)\n",
    "\n",
    "# Get the best-performing crop\n",
    "best_crop <- result_10[1, \"crop_type\"]\n",
    "cat(\"Best-performing crop in Saskatchewan in 2000:\", best_crop, \"\\n\")"
   ]
  },
  {
   "cell_type": "markdown",
   "metadata": {},
   "source": [
    "## Problem 11\n",
    "\n",
    "#### Rank the crops and geographies by their average yield (KG per hectare) since the year 2000. Which crop and province had the highest average yield since the year 2000?\n"
   ]
  },
  {
   "cell_type": "code",
   "execution_count": 40,
   "metadata": {},
   "outputs": [
    {
     "name": "stdout",
     "output_type": "stream",
     "text": [
      "Ranked crops and geographies by average yield since 2000:\n",
      "   crop_type          Geo avg_yield\n",
      "1     Barley      Alberta  2922.054\n",
      "2     Barley       Canada  2791.411\n",
      "3     Barley Saskatchewan  2559.054\n",
      "4      Wheat      Alberta  2465.411\n",
      "5      Wheat       Canada  2262.893\n",
      "6        Rye      Alberta  2141.607\n",
      "7      Wheat Saskatchewan  2026.643\n",
      "8        Rye       Canada  2007.893\n",
      "9        Rye Saskatchewan  1765.196\n",
      "10    Canola      Alberta  1478.018\n",
      "11    Canola       Canada  1434.839\n",
      "12    Canola Saskatchewan  1388.696\n",
      "Best crop and province by yield since 2000:\n",
      "   crop_type     Geo\n",
      "1    Barley Alberta\n"
     ]
    }
   ],
   "source": [
    "# SQL query to rank crops and geographies by their average yield since 2000\n",
    "query_11 <- \"\n",
    "SELECT crop_type, Geo, AVG(avg_yield) AS avg_yield\n",
    "FROM CROP_DATA\n",
    "WHERE CropYear >= 2000\n",
    "GROUP BY crop_type, Geo\n",
    "ORDER BY avg_yield DESC;\n",
    "\"\n",
    "\n",
    "# Execute the query\n",
    "result_11 <- dbGetQuery(conn, query_11)\n",
    "cat(\"Ranked crops and geographies by average yield since 2000:\\n\")\n",
    "print(result_11)\n",
    "\n",
    "# Get the highest-performing crop and province\n",
    "best_crop_geo <- result_11[1, c(\"crop_type\", \"Geo\")]\n",
    "cat(\"Best crop and province by yield since 2000:\\n \")\n",
    "print(best_crop_geo)"
   ]
  },
  {
   "cell_type": "markdown",
   "metadata": {},
   "source": [
    "## Problem 12\n",
    "\n",
    "#### Use a subquery to determine how much wheat was harvested in Canada in the most recent year of the data.\n"
   ]
  },
  {
   "cell_type": "code",
   "execution_count": 41,
   "metadata": {},
   "outputs": [
    {
     "name": "stdout",
     "output_type": "stream",
     "text": [
      "Total wheat harvested in Canada in the most recent year: 10017800 \n"
     ]
    }
   ],
   "source": [
    "# SQL query to determine how much wheat was harvested in Canada in the most recent year\n",
    "query_12 <- \"\n",
    "SELECT SUM(harvested_area) AS total_wheat_harvested\n",
    "FROM CROP_DATA\n",
    "WHERE crop_type = 'Wheat' AND Geo = 'Canada'\n",
    "AND CropYear = (SELECT MAX(CropYear) FROM CROP_DATA WHERE crop_type = 'Wheat' AND Geo = 'Canada');\n",
    "\"\n",
    "\n",
    "# Execute the query\n",
    "result_12 <- dbGetQuery(conn, query_12)\n",
    "cat(\"Total wheat harvested in Canada in the most recent year:\", result_12$total_wheat_harvested, \"\\n\")"
   ]
  },
  {
   "cell_type": "markdown",
   "metadata": {},
   "source": [
    "## Problem 13\n",
    "\n",
    "#### Use an implicit inner join to calculate the monthly price per metric tonne of Canola grown in Saskatchewan in both Canadian and US dollars. Display the most recent 6 months of the data.\n"
   ]
  },
  {
   "cell_type": "code",
   "execution_count": 42,
   "metadata": {},
   "outputs": [
    {
     "name": "stdout",
     "output_type": "stream",
     "text": [
      "Monthly price per metric tonne of Canola in Saskatchewan in both CAD and USD:\n",
      "    FarmDate price_CAD price_USD\n",
      "1 2020-12-01    507.33  396.1128\n",
      "2 2020-11-01    495.64  379.2718\n",
      "3 2020-10-01    474.80  359.2965\n",
      "4 2020-09-01    463.52  350.4057\n",
      "5 2020-08-01    464.60  351.3827\n",
      "6 2020-07-01    462.88  342.9122\n"
     ]
    }
   ],
   "source": [
    "# SQL query to calculate the monthly price per metric tonne of Canola in both CAD and USD\n",
    "query_13 <- \"\n",
    "SELECT p.FarmDate, p.price_prermt AS price_CAD, p.price_prermt / f.FXUSDCAD AS price_USD\n",
    "FROM FARM_PRICES p\n",
    "INNER JOIN MONTHLY_FX f\n",
    "  ON strftime('%Y-%m', p.FarmDate) = strftime('%Y-%m', f.MonthlyDate)\n",
    "WHERE p.crop_type = 'Canola' AND p.Geo = 'Saskatchewan'\n",
    "ORDER BY p.FarmDate DESC\n",
    "LIMIT 6;\n",
    "\"\n",
    "\n",
    "# Execute the query\n",
    "result_13 <- dbGetQuery(conn, query_13)\n",
    "cat(\"Monthly price per metric tonne of Canola in Saskatchewan in both CAD and USD:\\n\")\n",
    "print(result_13)"
   ]
  },
  {
   "cell_type": "markdown",
   "metadata": {},
   "source": [
    "## Author(s)\n",
    "\n",
    "<h4> Jeff Grossman </h4>\n",
    "\n",
    "<h4> D.M. Naidu </h4>\n",
    "\n",
    "## Contributor(s)\n",
    "\n",
    "<h4> Rav Ahuja </h4>\n",
    "\n",
    "<h4> Lakshmi Holla </h4>\n",
    "\n",
    "![footer](https://cf-courses-data.s3.us.cloud-object-storage.appdomain.cloud/zOMU1iwlZgwJXjWYzQAIgg/SNIBMfooter.png \"footer\")\n",
    "\n",
    "\n",
    "<!--## Change log\n",
    "\n",
    "| Date       | Version | Changed by    | Change Description                        |\n",
    "| ---------- | ------- | ------------- | ----------------------------------------- |\n",
    "| 2022-03-03 | 1.0     | D.M. Naidu    | Converted intial version to RSQLite       |-->\n",
    "\n",
    "\n"
   ]
  }
 ],
 "metadata": {
  "kernelspec": {
   "display_name": "R",
   "language": "R",
   "name": "conda-env-r-r"
  },
  "language_info": {
   "codemirror_mode": "r",
   "file_extension": ".r",
   "mimetype": "text/x-r-source",
   "name": "R",
   "pygments_lexer": "r",
   "version": "3.5.1"
  },
  "prev_pub_hash": "9d3439f8b8d5aa66c5b3bbd8b091badd07975d5f69504f8ac952200dec6dfdee"
 },
 "nbformat": 4,
 "nbformat_minor": 4
}

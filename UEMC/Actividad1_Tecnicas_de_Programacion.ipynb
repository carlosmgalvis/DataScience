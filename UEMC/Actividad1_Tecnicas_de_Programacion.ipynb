{
    "cells": [
        {
            "cell_type": "markdown",
            "metadata": {
                "collapsed": true
            },
            "source": "# <center> Predicci\u00f3n de la Calidad de Vino mediante Regresi\u00f3n Log\u00edstica Binaria </center>"
        },
        {
            "cell_type": "markdown",
            "metadata": {},
            "source": "## <center>Autor: Carlos Mauricio Galvis Traslavi\u00f1a </center>"
        },
        {
            "cell_type": "markdown",
            "metadata": {},
            "source": "  ### <center>UNIVERSIDAD EUROPEA MIGUEL DE CERVANTES</center>    \n  ### <center>M\u00c1STER UNIVERSITARIO EN GESTI\u00d3N Y AN\u00c1LISIS DE GRANDES VOL\u00daMENES DE DATOS: BIG DATA</center>\n  ### <center>T\u00c9CNICAS DE PROGRAMACI\u00d3N</center>\n  ### <center>BOGOT\u00c1, D.C. 2022</center>"
        },
        {
            "cell_type": "markdown",
            "metadata": {},
            "source": "### Enunciado\nEn el dataset que se brinda a continuaci\u00f3n se presentan los datos de 1599 muestras de vino tinto que contienen las siguientes caracter\u00edsticas:<br><br>\nVariables de Entrada (basadas en test f\u00edsico-qu\u00edmicos):\n1. fixed acidity\n2. volatile acidity\n3. citric acid\n4. residual sugar\n5. chlorides\n6. free sulfur dioxide\n7. total sulfur dioxide\n8. density\n9. pH\n10. sulphates\n11. alcohol<br><br>\n\nVariable de Salida (Basada en an\u00e1lisis sensorial):<br><br>\n12. quality (score between 0 and 10)<br><br>\n[Archivo de datos](https://archive.ics.uci.edu/ml/machine-learning-databases/wine-quality/winequality-red.csv)"
        },
        {
            "cell_type": "code",
            "execution_count": null,
            "metadata": {},
            "outputs": [],
            "source": ""
        }
    ],
    "metadata": {
        "kernelspec": {
            "display_name": "Python 3.9",
            "language": "python",
            "name": "python3"
        },
        "language_info": {
            "codemirror_mode": {
                "name": "ipython",
                "version": 3
            },
            "file_extension": ".py",
            "mimetype": "text/x-python",
            "name": "python",
            "nbconvert_exporter": "python",
            "pygments_lexer": "ipython3",
            "version": "3.9.13"
        }
    },
    "nbformat": 4,
    "nbformat_minor": 1
}
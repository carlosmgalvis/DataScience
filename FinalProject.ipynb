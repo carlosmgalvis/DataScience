{
  "metadata": {
    "language_info": {
      "codemirror_mode": {
        "name": "python",
        "version": 3
      },
      "file_extension": ".py",
      "mimetype": "text/x-python",
      "name": "python",
      "nbconvert_exporter": "python",
      "pygments_lexer": "ipython3",
      "version": "3.8"
    },
    "kernelspec": {
      "name": "python",
      "display_name": "Pyolite",
      "language": "python"
    }
  },
  "nbformat_minor": 4,
  "nbformat": 4,
  "cells": [
    {
      "cell_type": "markdown",
      "source": "# My Jupyter Notebook on IBM Watson Studio",
      "metadata": {
        "tags": []
      }
    },
    {
      "cell_type": "markdown",
      "source": "**Carlos Mauricio Galvis Traslaviña**",
      "metadata": {}
    },
    {
      "cell_type": "markdown",
      "source": "*I'm studying a Master in Big Data and Business Intelligence and is very important to me to learn how to use all this tools in an efficient way.*",
      "metadata": {}
    },
    {
      "cell_type": "markdown",
      "source": "### In the next cell my code made a math operation 1 + 1",
      "metadata": {}
    },
    {
      "cell_type": "code",
      "source": "1 + 1;",
      "metadata": {
        "trusted": true
      },
      "execution_count": null,
      "outputs": []
    },
    {
      "cell_type": "markdown",
      "source": "<details><summary>Using Markdown or HTML, this cell must include at least 3 of the following:</summary>\n<li>horizontal rule, </li>\n<li>bulleted list,  </li>\n<li>numbered list,  </li>\n<li>tables,  </li>\n<li>hyperlinks,  </li>\n<li>images,  </li>\n<li>code/syntax highlighting, </li> \n<li>blocked quotes,  </li>\n<li>strikethrough. </li>\n</details>\n\n## \n\n| Date (YYYY-MM-DD) | Version | Author        |  Description                   |\n| ----------------- | ------- | ------------- | ------------------------------ |\n| 2022-11-03        | 1.0     | Carlos Galvis | Final Task                     |\n<hr>\n\n##\n\n<img src=\"https://hcepsico.com/democonductual/_lib/file/img/empresa/HCEPsicoPortada.png\" width=100>\n\n",
      "metadata": {}
    }
  ]
}